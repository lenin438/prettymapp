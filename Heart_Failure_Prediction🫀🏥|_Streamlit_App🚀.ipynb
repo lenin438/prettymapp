{
  "metadata": {
    "kernelspec": {
      "name": "python3",
      "display_name": "Python 3",
      "language": "python"
    },
    "language_info": {
      "name": "python",
      "version": "3.10.12",
      "mimetype": "text/x-python",
      "codemirror_mode": {
        "name": "ipython",
        "version": 3
      },
      "pygments_lexer": "ipython3",
      "nbconvert_exporter": "python",
      "file_extension": ".py"
    },
    "kaggle": {
      "accelerator": "none",
      "dataSources": [
        {
          "sourceId": 2603715,
          "sourceType": "datasetVersion",
          "datasetId": 1582403
        }
      ],
      "dockerImageVersionId": 30886,
      "isInternetEnabled": true,
      "language": "python",
      "sourceType": "notebook",
      "isGpuEnabled": false
    },
    "colab": {
      "name": "Heart Failure Prediction🫀🏥| Streamlit App🚀",
      "provenance": [],
      "include_colab_link": true
    }
  },
  "nbformat_minor": 0,
  "nbformat": 4,
  "cells": [
    {
      "cell_type": "markdown",
      "metadata": {
        "id": "view-in-github",
        "colab_type": "text"
      },
      "source": [
        "<a href=\"https://colab.research.google.com/github/lenin438/prettymapp/blob/main/Heart_Failure_Prediction%F0%9F%AB%80%F0%9F%8F%A5%7C_Streamlit_App%F0%9F%9A%80.ipynb\" target=\"_parent\"><img src=\"https://colab.research.google.com/assets/colab-badge.svg\" alt=\"Open In Colab\"/></a>"
      ]
    },
    {
      "source": [
        "# IMPORTANT: RUN THIS CELL IN ORDER TO IMPORT YOUR KAGGLE DATA SOURCES,\n",
        "# THEN FEEL FREE TO DELETE THIS CELL.\n",
        "# NOTE: THIS NOTEBOOK ENVIRONMENT DIFFERS FROM KAGGLE'S PYTHON\n",
        "# ENVIRONMENT SO THERE MAY BE MISSING LIBRARIES USED BY YOUR\n",
        "# NOTEBOOK.\n",
        "import kagglehub\n",
        "fedesoriano_heart_failure_prediction_path = kagglehub.dataset_download('fedesoriano/heart-failure-prediction')\n",
        "\n",
        "print('Data source import complete.')\n"
      ],
      "metadata": {
        "id": "s2r36VhaujA0"
      },
      "cell_type": "code",
      "outputs": [],
      "execution_count": null
    },
    {
      "cell_type": "markdown",
      "source": [
        "<div style=\"color:white;\n",
        "            display:fill;\n",
        "            border-radius:15px;\n",
        "            background-color:black;\n",
        "            font-size:100%;\n",
        "            font-family:Verdana;\n",
        "            letter-spacing:1px\">\n",
        "    <h1 style='padding: 20px;\n",
        "              color:white;\n",
        "              text-align:center;'>\n",
        "        Import Needed Libraries\n",
        "    </h1>\n",
        "    </div>"
      ],
      "metadata": {
        "id": "BHCqQVftujBC"
      }
    },
    {
      "cell_type": "code",
      "source": [
        "import joblib\n",
        "import pandas as pd\n",
        "import numpy as np\n",
        "import matplotlib.pyplot as plt\n",
        "import seaborn as sns\n",
        "import plotly.express as px\n",
        "from plotly.offline import iplot , plot\n",
        "from plotly.offline import init_notebook_mode\n",
        "init_notebook_mode(connected=True)\n",
        "import plotly.io as pio\n",
        "from plotly.subplots import make_subplots\n",
        "from sklearn.preprocessing import MinMaxScaler , LabelEncoder\n",
        "from sklearn.model_selection import train_test_split , cross_val_score\n",
        "from sklearn.ensemble import RandomForestClassifier\n",
        "from xgboost import XGBClassifier\n",
        "from sklearn.metrics import  ConfusionMatrixDisplay, classification_report\n",
        "import warnings\n",
        "warnings.filterwarnings('ignore')"
      ],
      "metadata": {
        "trusted": true,
        "execution": {
          "iopub.status.busy": "2025-02-07T17:52:11.605312Z",
          "iopub.execute_input": "2025-02-07T17:52:11.605682Z",
          "iopub.status.idle": "2025-02-07T17:52:15.155452Z",
          "shell.execute_reply.started": "2025-02-07T17:52:11.60563Z",
          "shell.execute_reply": "2025-02-07T17:52:15.154157Z"
        },
        "id": "Z2a3FT_9ujBI"
      },
      "outputs": [],
      "execution_count": null
    },
    {
      "cell_type": "markdown",
      "source": [
        "<div style=\"color:white;\n",
        "            display:fill;\n",
        "            border-radius:15px;\n",
        "            background-color:black;\n",
        "            font-size:100%;\n",
        "            font-family:Verdana;\n",
        "            letter-spacing:1px\">\n",
        "    <h1 style='padding: 20px;\n",
        "              color:white;\n",
        "              text-align:center;'>\n",
        "        Reading Dataset And Get Info\n",
        "    </h1>\n",
        "    </div>"
      ],
      "metadata": {
        "id": "zoZNmMSKujBK"
      }
    },
    {
      "cell_type": "code",
      "source": [
        "df = pd.read_csv('/kaggle/input/heart-failure-prediction/heart.csv')"
      ],
      "metadata": {
        "trusted": true,
        "execution": {
          "iopub.status.busy": "2025-02-07T17:52:15.156946Z",
          "iopub.execute_input": "2025-02-07T17:52:15.157284Z",
          "iopub.status.idle": "2025-02-07T17:52:15.188226Z",
          "shell.execute_reply.started": "2025-02-07T17:52:15.157247Z",
          "shell.execute_reply": "2025-02-07T17:52:15.18682Z"
        },
        "id": "Wc9J5pm1ujBL"
      },
      "outputs": [],
      "execution_count": null
    },
    {
      "cell_type": "code",
      "source": [
        "# Show Sample of Data\n",
        "df.sample(5)"
      ],
      "metadata": {
        "trusted": true,
        "execution": {
          "iopub.status.busy": "2025-02-07T17:52:15.189898Z",
          "iopub.execute_input": "2025-02-07T17:52:15.190567Z",
          "iopub.status.idle": "2025-02-07T17:52:15.230306Z",
          "shell.execute_reply.started": "2025-02-07T17:52:15.190532Z",
          "shell.execute_reply": "2025-02-07T17:52:15.229071Z"
        },
        "id": "yckTBNVOujBM"
      },
      "outputs": [],
      "execution_count": null
    },
    {
      "cell_type": "code",
      "source": [
        "# Show Shape of Data\n",
        "print(f\"Number of Row : {df.shape[0]}\\nNumber of Columns : {df.shape[1]}\")"
      ],
      "metadata": {
        "trusted": true,
        "execution": {
          "iopub.status.busy": "2025-02-07T17:52:16.803151Z",
          "iopub.execute_input": "2025-02-07T17:52:16.803492Z",
          "iopub.status.idle": "2025-02-07T17:52:16.809107Z",
          "shell.execute_reply.started": "2025-02-07T17:52:16.803468Z",
          "shell.execute_reply": "2025-02-07T17:52:16.807597Z"
        },
        "id": "hrYqpVQNujBO"
      },
      "outputs": [],
      "execution_count": null
    },
    {
      "cell_type": "code",
      "source": [
        "df.info()"
      ],
      "metadata": {
        "trusted": true,
        "execution": {
          "iopub.status.busy": "2025-02-07T17:52:16.952282Z",
          "iopub.execute_input": "2025-02-07T17:52:16.952629Z",
          "iopub.status.idle": "2025-02-07T17:52:16.97696Z",
          "shell.execute_reply.started": "2025-02-07T17:52:16.952603Z",
          "shell.execute_reply": "2025-02-07T17:52:16.975748Z"
        },
        "id": "74sm3zV1ujBR"
      },
      "outputs": [],
      "execution_count": null
    },
    {
      "cell_type": "code",
      "source": [
        "# Check NaN Value\n",
        "df.isna().sum()"
      ],
      "metadata": {
        "trusted": true,
        "execution": {
          "iopub.status.busy": "2025-02-07T17:52:17.082751Z",
          "iopub.execute_input": "2025-02-07T17:52:17.08309Z",
          "iopub.status.idle": "2025-02-07T17:52:17.091808Z",
          "shell.execute_reply.started": "2025-02-07T17:52:17.083065Z",
          "shell.execute_reply": "2025-02-07T17:52:17.090566Z"
        },
        "id": "i0jl8P9eujBU"
      },
      "outputs": [],
      "execution_count": null
    },
    {
      "cell_type": "code",
      "source": [
        "# Describe Numiric Data\n",
        "df.describe()"
      ],
      "metadata": {
        "trusted": true,
        "execution": {
          "iopub.status.busy": "2025-02-07T17:52:17.233943Z",
          "iopub.execute_input": "2025-02-07T17:52:17.234362Z",
          "iopub.status.idle": "2025-02-07T17:52:17.270257Z",
          "shell.execute_reply.started": "2025-02-07T17:52:17.234334Z",
          "shell.execute_reply": "2025-02-07T17:52:17.26929Z"
        },
        "id": "drNCKbk3ujBV"
      },
      "outputs": [],
      "execution_count": null
    },
    {
      "cell_type": "markdown",
      "source": [
        "####    All this an errors in data collection\n",
        "- the min value in  2 columns = 0 (RestingBP, Cholesterol) is not realistic\n",
        "- An Oldpeak value of -2.6 mm is not realistic because ST depression (Oldpeak) cannot be negative"
      ],
      "metadata": {
        "id": "SJi9ItgQujBW"
      }
    },
    {
      "cell_type": "code",
      "source": [
        "pd.DataFrame({'Count':df.shape[0],\n",
        "              'Null':df.isnull().sum(),\n",
        "              'Null %':df.isnull().mean() * 100,\n",
        "              'Cardinality':df.nunique()\n",
        "})"
      ],
      "metadata": {
        "trusted": true,
        "execution": {
          "iopub.status.busy": "2025-02-07T17:52:18.653086Z",
          "iopub.execute_input": "2025-02-07T17:52:18.653434Z",
          "iopub.status.idle": "2025-02-07T17:52:18.674721Z",
          "shell.execute_reply.started": "2025-02-07T17:52:18.65341Z",
          "shell.execute_reply": "2025-02-07T17:52:18.673731Z"
        },
        "id": "sWqTc38XujBX"
      },
      "outputs": [],
      "execution_count": null
    },
    {
      "cell_type": "code",
      "source": [
        "# Check Dublication\n",
        "df.duplicated().sum()"
      ],
      "metadata": {
        "trusted": true,
        "execution": {
          "iopub.status.busy": "2025-02-07T17:52:18.781262Z",
          "iopub.execute_input": "2025-02-07T17:52:18.781598Z",
          "iopub.status.idle": "2025-02-07T17:52:18.791137Z",
          "shell.execute_reply.started": "2025-02-07T17:52:18.781574Z",
          "shell.execute_reply": "2025-02-07T17:52:18.790125Z"
        },
        "id": "_nETjHGBujBY"
      },
      "outputs": [],
      "execution_count": null
    },
    {
      "cell_type": "markdown",
      "source": [
        "<div style=\"color:white;\n",
        "            display:fill;\n",
        "            border-radius:15px;\n",
        "            background-color:black;\n",
        "            font-size:100%;\n",
        "            font-family:Verdana;\n",
        "            letter-spacing:1px\">\n",
        "    <h1 style='padding: 20px;\n",
        "              color:white;\n",
        "              text-align:center;'>\n",
        "        Handling Missing Data (Nulls)\n",
        "    </h1>\n",
        "    </div>"
      ],
      "metadata": {
        "id": "uCv27dnFujBZ"
      }
    },
    {
      "cell_type": "markdown",
      "source": [
        "## Handle not realistic value (RestingBP, Cholesterol,Oldpeak)"
      ],
      "metadata": {
        "id": "W8vKTZVuujBa"
      }
    },
    {
      "cell_type": "markdown",
      "source": [
        "#### The negative reviews are real but were entered incorrectly because Oldpeak should be positive"
      ],
      "metadata": {
        "id": "8Hf_OGWGujBb"
      }
    },
    {
      "cell_type": "code",
      "source": [
        "df[df['Oldpeak']<0]"
      ],
      "metadata": {
        "trusted": true,
        "execution": {
          "iopub.status.busy": "2025-02-07T17:52:23.041148Z",
          "iopub.execute_input": "2025-02-07T17:52:23.041507Z",
          "iopub.status.idle": "2025-02-07T17:52:23.057923Z",
          "shell.execute_reply.started": "2025-02-07T17:52:23.041478Z",
          "shell.execute_reply": "2025-02-07T17:52:23.056912Z"
        },
        "id": "32yqvGsHujBc"
      },
      "outputs": [],
      "execution_count": null
    },
    {
      "cell_type": "code",
      "source": [
        "# Change negative values to positive values\n",
        "df['Oldpeak'] = df['Oldpeak'].abs()"
      ],
      "metadata": {
        "trusted": true,
        "execution": {
          "iopub.status.busy": "2025-02-07T17:52:24.087125Z",
          "iopub.execute_input": "2025-02-07T17:52:24.08745Z",
          "iopub.status.idle": "2025-02-07T17:52:24.092516Z",
          "shell.execute_reply.started": "2025-02-07T17:52:24.087425Z",
          "shell.execute_reply": "2025-02-07T17:52:24.091176Z"
        },
        "id": "JkDgjaELujBd"
      },
      "outputs": [],
      "execution_count": null
    },
    {
      "cell_type": "markdown",
      "source": [
        "####  Convert those 0's values in these 2 columns (RestingBP, Cholesterol) to determine how many missing valuesin each feature in our data"
      ],
      "metadata": {
        "id": "GlD0jr3XujBf"
      }
    },
    {
      "cell_type": "code",
      "source": [
        "df[['RestingBP','Cholesterol']] = df[['RestingBP','Cholesterol']].replace(0,np.nan)"
      ],
      "metadata": {
        "trusted": true,
        "execution": {
          "iopub.status.busy": "2025-02-07T17:52:24.393923Z",
          "iopub.execute_input": "2025-02-07T17:52:24.394293Z",
          "iopub.status.idle": "2025-02-07T17:52:24.402027Z",
          "shell.execute_reply.started": "2025-02-07T17:52:24.394268Z",
          "shell.execute_reply": "2025-02-07T17:52:24.400538Z"
        },
        "id": "dze-q_-PujBf"
      },
      "outputs": [],
      "execution_count": null
    },
    {
      "cell_type": "code",
      "source": [
        "# Show Number of Missing Values (NaN)\n",
        "df[['RestingBP','Cholesterol']].isna().sum()"
      ],
      "metadata": {
        "trusted": true,
        "execution": {
          "iopub.status.busy": "2025-02-07T17:52:24.527912Z",
          "iopub.execute_input": "2025-02-07T17:52:24.528306Z",
          "iopub.status.idle": "2025-02-07T17:52:24.537051Z",
          "shell.execute_reply.started": "2025-02-07T17:52:24.528276Z",
          "shell.execute_reply": "2025-02-07T17:52:24.535804Z"
        },
        "id": "FjYsE1zTujBg"
      },
      "outputs": [],
      "execution_count": null
    },
    {
      "cell_type": "code",
      "source": [
        "# Show Status of HeartDisease which NaN in RestingBP\n",
        "df[df['RestingBP'].isna()]"
      ],
      "metadata": {
        "trusted": true,
        "execution": {
          "iopub.status.busy": "2025-02-07T17:52:24.688117Z",
          "iopub.execute_input": "2025-02-07T17:52:24.688512Z",
          "iopub.status.idle": "2025-02-07T17:52:24.703208Z",
          "shell.execute_reply.started": "2025-02-07T17:52:24.688475Z",
          "shell.execute_reply": "2025-02-07T17:52:24.701871Z"
        },
        "id": "olRHLnpAujBh"
      },
      "outputs": [],
      "execution_count": null
    },
    {
      "cell_type": "code",
      "source": [
        "# Fill Missing Value with median of people has Heart Disease\n",
        "df['RestingBP'] = df['RestingBP'].fillna(df.groupby('HeartDisease')['RestingBP'].median()[1])"
      ],
      "metadata": {
        "trusted": true,
        "execution": {
          "iopub.status.busy": "2025-02-07T17:52:24.835041Z",
          "iopub.execute_input": "2025-02-07T17:52:24.835399Z",
          "iopub.status.idle": "2025-02-07T17:52:24.844912Z",
          "shell.execute_reply.started": "2025-02-07T17:52:24.835371Z",
          "shell.execute_reply": "2025-02-07T17:52:24.843767Z"
        },
        "id": "E9DmIfAPujBi"
      },
      "outputs": [],
      "execution_count": null
    },
    {
      "cell_type": "code",
      "source": [
        "temp = df.groupby('HeartDisease')['Cholesterol'].median()\n",
        "df.loc[(df['Cholesterol'].isna()) & (df['HeartDisease'] == 0), 'Cholesterol'] = temp[0]\n",
        "df.loc[(df['Cholesterol'].isna()) & (df['HeartDisease'] == 1), 'Cholesterol'] = temp[1]"
      ],
      "metadata": {
        "trusted": true,
        "execution": {
          "iopub.status.busy": "2025-02-07T17:52:26.070131Z",
          "iopub.execute_input": "2025-02-07T17:52:26.070498Z",
          "iopub.status.idle": "2025-02-07T17:52:26.079806Z",
          "shell.execute_reply.started": "2025-02-07T17:52:26.070469Z",
          "shell.execute_reply": "2025-02-07T17:52:26.078843Z"
        },
        "id": "BicyQuFAujBj"
      },
      "outputs": [],
      "execution_count": null
    },
    {
      "cell_type": "code",
      "source": [
        "# After Fill Missing Values\n",
        "df.isnull().sum()"
      ],
      "metadata": {
        "trusted": true,
        "execution": {
          "iopub.status.busy": "2025-02-07T17:52:26.380754Z",
          "iopub.execute_input": "2025-02-07T17:52:26.381094Z",
          "iopub.status.idle": "2025-02-07T17:52:26.389928Z",
          "shell.execute_reply.started": "2025-02-07T17:52:26.38107Z",
          "shell.execute_reply": "2025-02-07T17:52:26.388781Z"
        },
        "id": "ly_-NptcujBk"
      },
      "outputs": [],
      "execution_count": null
    },
    {
      "cell_type": "markdown",
      "source": [
        "<div style=\"color:white;\n",
        "            display:fill;\n",
        "            border-radius:15px;\n",
        "            background-color:black;\n",
        "            font-size:100%;\n",
        "            font-family:Verdana;\n",
        "            letter-spacing:1px\">\n",
        "    <h1 style='padding: 20px;\n",
        "              color:white;\n",
        "              text-align:center;'>\n",
        "        Detection Outliers\n",
        "    </h1>\n",
        "    </div>"
      ],
      "metadata": {
        "id": "S6OVWpDGujBl"
      }
    },
    {
      "cell_type": "code",
      "source": [
        "def detect_outliers_iqr(df, columns, threshold = 1.5):\n",
        "\n",
        "    outlier_indices = {}\n",
        "\n",
        "    for col in columns:\n",
        "        Q1 = df[col].quantile(0.25)  # 25th percentile\n",
        "        Q3 = df[col].quantile(0.75)  # 75th percentile\n",
        "        IQR = Q3 - Q1  # Interquartile range\n",
        "        lower_bound = Q1 - threshold * IQR\n",
        "        upper_bound = Q3 + threshold * IQR\n",
        "\n",
        "        # Finding outliers\n",
        "        outliers = df[(df[col] < lower_bound) | (df[col] > upper_bound)].index.tolist()\n",
        "        outlier_indices[col] = outliers\n",
        "\n",
        "    return outlier_indices\n",
        "\n",
        "numerical_columns = ['Age', 'RestingBP', 'Cholesterol', 'MaxHR', 'Oldpeak']\n",
        "outliers_iqr = detect_outliers_iqr(df, numerical_columns)\n",
        "\n",
        "for col, indices in outliers_iqr.items():\n",
        "    print(f\"{col}: {len(indices)} outliers detected\")"
      ],
      "metadata": {
        "trusted": true,
        "execution": {
          "iopub.status.busy": "2025-02-07T17:52:26.978691Z",
          "iopub.execute_input": "2025-02-07T17:52:26.97906Z",
          "iopub.status.idle": "2025-02-07T17:52:27.000348Z",
          "shell.execute_reply.started": "2025-02-07T17:52:26.97903Z",
          "shell.execute_reply": "2025-02-07T17:52:26.999022Z"
        },
        "id": "IablhXyPujBl"
      },
      "outputs": [],
      "execution_count": null
    },
    {
      "cell_type": "code",
      "source": [
        "plt.figure(figsize=(15, 6))\n",
        "\n",
        "for i, col in enumerate(numerical_columns, 1):\n",
        "    plt.subplot(2, 3, i)\n",
        "    sns.boxplot(x = df[col], color = \"skyblue\")\n",
        "    plt.title(f\"Box Plot of {col}\")\n",
        "\n",
        "plt.tight_layout()\n",
        "plt.show()"
      ],
      "metadata": {
        "trusted": true,
        "execution": {
          "iopub.status.busy": "2025-02-07T17:52:28.329736Z",
          "iopub.execute_input": "2025-02-07T17:52:28.330125Z",
          "iopub.status.idle": "2025-02-07T17:52:29.068752Z",
          "shell.execute_reply.started": "2025-02-07T17:52:28.330047Z",
          "shell.execute_reply": "2025-02-07T17:52:29.067474Z"
        },
        "id": "cmwT8qUPujBm"
      },
      "outputs": [],
      "execution_count": null
    },
    {
      "cell_type": "code",
      "source": [
        "def remove_outliers(df, columns, threshold=1.5):\n",
        "    df_clean = df.copy()\n",
        "    for col in columns:\n",
        "        Q1 = df_clean[col].quantile(0.25)  # First quartile (25%)\n",
        "        Q3 = df_clean[col].quantile(0.75)  # Third quartile (75%)\n",
        "        IQR = Q3 - Q1  # Interquartile range\n",
        "        lower_bound = Q1 - threshold * IQR\n",
        "        upper_bound = Q3 + threshold * IQR\n",
        "\n",
        "        df_clean = df_clean[(df_clean[col] > lower_bound) & (df_clean[col] < upper_bound)]\n",
        "\n",
        "    return df_clean\n",
        "\n",
        "df_cleaned = remove_outliers(df, numerical_columns)"
      ],
      "metadata": {
        "trusted": true,
        "execution": {
          "iopub.status.busy": "2025-02-07T17:52:29.070409Z",
          "iopub.execute_input": "2025-02-07T17:52:29.070721Z",
          "iopub.status.idle": "2025-02-07T17:52:29.090147Z",
          "shell.execute_reply.started": "2025-02-07T17:52:29.070694Z",
          "shell.execute_reply": "2025-02-07T17:52:29.089085Z"
        },
        "id": "PUd8Q24RujBn"
      },
      "outputs": [],
      "execution_count": null
    },
    {
      "cell_type": "code",
      "source": [
        "# The New of Shape Cleaned Data\n",
        "print(f\"Number of Row : {df_cleaned.shape[0]}\\nNumber of Columns : {df_cleaned.shape[1]}\")"
      ],
      "metadata": {
        "trusted": true,
        "execution": {
          "iopub.status.busy": "2025-02-07T17:52:29.091894Z",
          "iopub.execute_input": "2025-02-07T17:52:29.092175Z",
          "iopub.status.idle": "2025-02-07T17:52:29.098328Z",
          "shell.execute_reply.started": "2025-02-07T17:52:29.092151Z",
          "shell.execute_reply": "2025-02-07T17:52:29.097351Z"
        },
        "id": "3vXu4O0cujBo"
      },
      "outputs": [],
      "execution_count": null
    },
    {
      "cell_type": "markdown",
      "source": [
        "#### Cleaned Data BoxPlot To Show Outliers"
      ],
      "metadata": {
        "id": "xHvvrXmDujBp"
      }
    },
    {
      "cell_type": "code",
      "source": [
        "plt.figure(figsize=(15, 6))\n",
        "\n",
        "for i, col in enumerate(numerical_columns, 1):\n",
        "    plt.subplot(2, 3, i)\n",
        "    sns.boxplot(x = df_cleaned[col], color = \"skyblue\")\n",
        "    plt.title(f\"Box Plot of {col}\")\n",
        "\n",
        "plt.tight_layout()\n",
        "plt.show()"
      ],
      "metadata": {
        "trusted": true,
        "execution": {
          "iopub.status.busy": "2025-02-07T17:52:29.099391Z",
          "iopub.execute_input": "2025-02-07T17:52:29.099642Z",
          "iopub.status.idle": "2025-02-07T17:52:29.800478Z",
          "shell.execute_reply.started": "2025-02-07T17:52:29.099621Z",
          "shell.execute_reply": "2025-02-07T17:52:29.799293Z"
        },
        "id": "kb-IMjicujBq"
      },
      "outputs": [],
      "execution_count": null
    },
    {
      "cell_type": "code",
      "source": [
        "df_cleaned.reset_index(inplace = True , drop = True)\n",
        "df_cleaned.sample(5)"
      ],
      "metadata": {
        "trusted": true,
        "execution": {
          "iopub.status.busy": "2025-02-07T17:52:32.811945Z",
          "iopub.execute_input": "2025-02-07T17:52:32.812319Z",
          "iopub.status.idle": "2025-02-07T17:52:32.828195Z",
          "shell.execute_reply.started": "2025-02-07T17:52:32.81229Z",
          "shell.execute_reply": "2025-02-07T17:52:32.82729Z"
        },
        "id": "sYKlpymhujBr"
      },
      "outputs": [],
      "execution_count": null
    },
    {
      "cell_type": "code",
      "source": [
        "df_cleaned.info()"
      ],
      "metadata": {
        "trusted": true,
        "execution": {
          "iopub.status.busy": "2025-02-07T17:52:32.94329Z",
          "iopub.execute_input": "2025-02-07T17:52:32.943627Z",
          "iopub.status.idle": "2025-02-07T17:52:32.955136Z",
          "shell.execute_reply.started": "2025-02-07T17:52:32.943603Z",
          "shell.execute_reply": "2025-02-07T17:52:32.953973Z"
        },
        "id": "XFXB8bdwujBr"
      },
      "outputs": [],
      "execution_count": null
    },
    {
      "cell_type": "markdown",
      "source": [
        "<div style=\"color:white;\n",
        "            display:fill;\n",
        "            border-radius:15px;\n",
        "            background-color:black;\n",
        "            font-size:100%;\n",
        "            font-family:Verdana;\n",
        "            letter-spacing:1px\">\n",
        "    <h1 style='padding: 20px;\n",
        "              color:white;\n",
        "              text-align:center;'>\n",
        "         EDA of Data and Get Insights\n",
        "    </h1>\n",
        "    </div>"
      ],
      "metadata": {
        "id": "NFuIYArhujBs"
      }
    },
    {
      "cell_type": "markdown",
      "source": [
        "## Age distribution in the data"
      ],
      "metadata": {
        "id": "feSMKckzujBu"
      }
    },
    {
      "cell_type": "code",
      "source": [
        "plt.figure(figsize=(15, 6))\n",
        "\n",
        "plt.subplot(1,2,1)\n",
        "\n",
        "sns.histplot(df_cleaned[df['Sex'] == 'M']['Age'], color='blue', kde=True, bins=20, stat='density')\n",
        "plt.title('Age Distribution for Male')\n",
        "\n",
        "plt.subplot(1,2,2)\n",
        "\n",
        "sns.histplot(df_cleaned[df['Sex'] == 'F']['Age'], color='pink', kde=True, bins=20, stat='density')\n",
        "plt.title('Age Distribution for Female')\n",
        "\n",
        "plt.show()"
      ],
      "metadata": {
        "trusted": true,
        "execution": {
          "iopub.status.busy": "2025-02-07T17:52:40.907293Z",
          "iopub.execute_input": "2025-02-07T17:52:40.907626Z",
          "iopub.status.idle": "2025-02-07T17:52:41.395163Z",
          "shell.execute_reply.started": "2025-02-07T17:52:40.907601Z",
          "shell.execute_reply": "2025-02-07T17:52:41.394016Z"
        },
        "id": "F550SDJUujBu"
      },
      "outputs": [],
      "execution_count": null
    },
    {
      "cell_type": "markdown",
      "source": [
        "- Most Ranges of Age between 50 to 60"
      ],
      "metadata": {
        "id": "gh7f7AHpujBv"
      }
    },
    {
      "cell_type": "code",
      "source": [
        "fig = px.pie(values = df_cleaned['Sex'].value_counts(),\n",
        "             names = ['Male','Female'],\n",
        "             template = 'plotly_dark',\n",
        "             title = 'The Percentage of Type of Gender in the Data'\n",
        "             ).update_traces(textinfo='label+percent')\n",
        "pio.renderers.default = 'iframe'\n",
        "fig.show()"
      ],
      "metadata": {
        "trusted": true,
        "execution": {
          "iopub.status.busy": "2025-02-07T17:52:43.960289Z",
          "iopub.execute_input": "2025-02-07T17:52:43.960626Z",
          "iopub.status.idle": "2025-02-07T17:52:45.829282Z",
          "shell.execute_reply.started": "2025-02-07T17:52:43.960601Z",
          "shell.execute_reply": "2025-02-07T17:52:45.82803Z"
        },
        "id": "NBeJulu-ujBv"
      },
      "outputs": [],
      "execution_count": null
    },
    {
      "cell_type": "markdown",
      "source": [
        "- Males are the dominant Category in the data"
      ],
      "metadata": {
        "id": "l3NLWqtLujB_"
      }
    },
    {
      "cell_type": "markdown",
      "source": [
        "## Chest Pain Type For each gender of Sex"
      ],
      "metadata": {
        "id": "7B1KcKKqujCA"
      }
    },
    {
      "cell_type": "code",
      "source": [
        "fig = px.bar(df_cleaned[df_cleaned['Sex'] == 'M']['ChestPainType'].value_counts(),\n",
        "             color = df_cleaned[df_cleaned['Sex'] == 'M']['ChestPainType'].value_counts().index,\n",
        "             template = 'plotly_dark',\n",
        "             title = 'Most Chest Pain Type For Male',\n",
        "             labels = {'value':'Count'},\n",
        "             text_auto = True\n",
        "             )\n",
        "fig.show()"
      ],
      "metadata": {
        "trusted": true,
        "execution": {
          "iopub.status.busy": "2025-02-07T17:52:52.63649Z",
          "iopub.execute_input": "2025-02-07T17:52:52.636902Z",
          "iopub.status.idle": "2025-02-07T17:52:52.812096Z",
          "shell.execute_reply.started": "2025-02-07T17:52:52.636871Z",
          "shell.execute_reply": "2025-02-07T17:52:52.811117Z"
        },
        "id": "FHbTajH3ujCB"
      },
      "outputs": [],
      "execution_count": null
    },
    {
      "cell_type": "code",
      "source": [
        "fig = px.bar(df_cleaned[df_cleaned['Sex'] == 'F']['ChestPainType'].value_counts(),\n",
        "             color = df_cleaned[df_cleaned['Sex'] == 'F']['ChestPainType'].value_counts().index,\n",
        "             template = 'plotly_dark',\n",
        "             title = 'Most Chest Pain Type For Female',\n",
        "             labels = {'value':'Count'},\n",
        "             text_auto = True\n",
        "             )\n",
        "fig.show()"
      ],
      "metadata": {
        "trusted": true,
        "execution": {
          "iopub.status.busy": "2025-02-07T17:52:56.102166Z",
          "iopub.execute_input": "2025-02-07T17:52:56.102534Z",
          "iopub.status.idle": "2025-02-07T17:52:56.230326Z",
          "shell.execute_reply.started": "2025-02-07T17:52:56.102503Z",
          "shell.execute_reply": "2025-02-07T17:52:56.229153Z"
        },
        "id": "_ueRVKSsujCB"
      },
      "outputs": [],
      "execution_count": null
    },
    {
      "cell_type": "code",
      "source": [
        "fig = px.bar(df_cleaned['ChestPainType'].value_counts(),\n",
        "             color = df_cleaned['ChestPainType'].value_counts().index,\n",
        "             template = 'plotly_dark',\n",
        "             title = 'Most Chest Pain Type In General',\n",
        "             labels = {'value':'Count'},\n",
        "             text_auto = True\n",
        "             )\n",
        "fig.show()"
      ],
      "metadata": {
        "trusted": true,
        "execution": {
          "iopub.status.busy": "2025-02-07T17:52:58.758175Z",
          "iopub.execute_input": "2025-02-07T17:52:58.75854Z",
          "iopub.status.idle": "2025-02-07T17:52:58.887815Z",
          "shell.execute_reply.started": "2025-02-07T17:52:58.758511Z",
          "shell.execute_reply": "2025-02-07T17:52:58.886791Z"
        },
        "id": "3MDfhBDIujCC"
      },
      "outputs": [],
      "execution_count": null
    },
    {
      "cell_type": "markdown",
      "source": [
        "#### Most Chest Pain Type\n",
        "- Male and Female Most Common occur -> ASY: Asymptomatic\n",
        "- Male and Female Least Common occur -> TA: Typical Angina"
      ],
      "metadata": {
        "id": "c1Xqh-yeujCD"
      }
    },
    {
      "cell_type": "markdown",
      "source": [
        "## Distribution of Resting Blood Pressure"
      ],
      "metadata": {
        "id": "rm3k8HsXujCD"
      }
    },
    {
      "cell_type": "code",
      "source": [
        "plt.figure(figsize=(20, 12))\n",
        "\n",
        "plt.subplot(2,2,1)\n",
        "\n",
        "sns.histplot(df_cleaned[(df['Sex'] == 'M') & (df_cleaned['HeartDisease'] == 0)]['RestingBP'], color='blue', kde=True, bins=20, stat='density')\n",
        "plt.title('Resting Blood Pressure [mm Hg] Distribution for Male Has Not Heart Disease')\n",
        "\n",
        "plt.subplot(2,2,2)\n",
        "\n",
        "sns.histplot(df_cleaned[(df['Sex'] == 'M') & (df_cleaned['HeartDisease'] == 1)]['RestingBP'], color='blue', kde=True, bins=20, stat='density')\n",
        "plt.title('Resting Blood Pressure [mm Hg] Distribution for Male Has Heart Disease')\n",
        "\n",
        "plt.subplot(2,2,3)\n",
        "\n",
        "sns.histplot(df_cleaned[(df['Sex'] == 'F') & (df_cleaned['HeartDisease'] == 0)]['RestingBP'], color='pink', kde=True, bins=20, stat='density')\n",
        "plt.title('Resting Blood Pressure [mm Hg] Distribution for Female Has Not Heart Disease')\n",
        "\n",
        "plt.subplot(2,2,4)\n",
        "\n",
        "sns.histplot(df_cleaned[(df['Sex'] == 'F') & (df_cleaned['HeartDisease'] == 1)]['RestingBP'], color='pink', kde=True, bins=20, stat='density')\n",
        "plt.title('Resting Blood Pressure [mm Hg] Distribution for Female Has Heart Disease')\n",
        "\n",
        "plt.show()"
      ],
      "metadata": {
        "trusted": true,
        "execution": {
          "iopub.status.busy": "2025-02-07T17:53:04.755405Z",
          "iopub.execute_input": "2025-02-07T17:53:04.755763Z",
          "iopub.status.idle": "2025-02-07T17:53:05.945082Z",
          "shell.execute_reply.started": "2025-02-07T17:53:04.755736Z",
          "shell.execute_reply": "2025-02-07T17:53:05.943876Z"
        },
        "id": "lr0pK-wMujCE"
      },
      "outputs": [],
      "execution_count": null
    },
    {
      "cell_type": "markdown",
      "source": [
        "## Distribution of Cholesterol"
      ],
      "metadata": {
        "id": "Ls9e_rgAujCE"
      }
    },
    {
      "cell_type": "code",
      "source": [
        "plt.figure(figsize=(20, 12))\n",
        "\n",
        "plt.subplot(2,2,1)\n",
        "\n",
        "sns.histplot(df_cleaned[(df['Sex'] == 'M') & (df_cleaned['HeartDisease'] == 0)]['Cholesterol'], color='blue', kde=True, bins=20, stat='density')\n",
        "plt.title('Cholesterol Distribution for Male Has Not Heart Disease')\n",
        "\n",
        "plt.subplot(2,2,2)\n",
        "\n",
        "sns.histplot(df_cleaned[(df['Sex'] == 'M') & (df_cleaned['HeartDisease'] == 1)]['Cholesterol'], color='blue', kde=True, bins=20, stat='density')\n",
        "plt.title('Cholesterol Distribution for Male Has Heart Disease')\n",
        "\n",
        "plt.subplot(2,2,3)\n",
        "\n",
        "sns.histplot(df_cleaned[(df['Sex'] == 'F') & (df_cleaned['HeartDisease'] == 0)]['Cholesterol'], color='pink', kde=True, bins=20, stat='density')\n",
        "plt.title('Cholesterol Distribution for Female Has Not Heart Disease')\n",
        "\n",
        "plt.subplot(2,2,4)\n",
        "\n",
        "sns.histplot(df_cleaned[(df['Sex'] == 'F') & (df_cleaned['HeartDisease'] == 1)]['Cholesterol'], color='pink', kde=True, bins=20, stat='density')\n",
        "plt.title('Cholesterol Distribution for Female Has Heart Disease')\n",
        "\n",
        "plt.show()"
      ],
      "metadata": {
        "id": "fcMKdQJ6ujCF"
      },
      "outputs": [],
      "execution_count": null
    },
    {
      "cell_type": "markdown",
      "source": [
        "## Percentage of fasting For people has heart disease or not"
      ],
      "metadata": {
        "id": "FU9ljJPCujCG"
      }
    },
    {
      "cell_type": "code",
      "source": [
        "fig = px.pie(values = df_cleaned[(df_cleaned['HeartDisease'] == 0)]['FastingBS'].value_counts(),\n",
        "             names = ['otherwise','FastingBS > 120 mg'],\n",
        "             template = 'plotly_dark',\n",
        "             title = 'The Percentage of FastingBS in For People has Not Heart Disease'\n",
        "             ).update_traces(textinfo='label+percent')\n",
        "\n",
        "fig.show()"
      ],
      "metadata": {
        "trusted": true,
        "execution": {
          "iopub.status.busy": "2025-02-07T17:53:07.975707Z",
          "iopub.execute_input": "2025-02-07T17:53:07.976216Z",
          "iopub.status.idle": "2025-02-07T17:53:08.078356Z",
          "shell.execute_reply.started": "2025-02-07T17:53:07.976184Z",
          "shell.execute_reply": "2025-02-07T17:53:08.077358Z"
        },
        "id": "FJn5Aqz0ujCG"
      },
      "outputs": [],
      "execution_count": null
    },
    {
      "cell_type": "code",
      "source": [
        "fig = px.pie(values = df_cleaned[(df_cleaned['HeartDisease'] == 1)]['FastingBS'].value_counts(),\n",
        "             names = ['otherwise','FastingBS > 120 mg'],\n",
        "             template = 'plotly_dark',\n",
        "             title = 'The Percentage of FastingBS in For People has Heart Disease'\n",
        "             ).update_traces(textinfo='label+percent')\n",
        "\n",
        "fig.show()"
      ],
      "metadata": {
        "trusted": true,
        "execution": {
          "iopub.status.busy": "2025-02-07T17:53:11.67417Z",
          "iopub.execute_input": "2025-02-07T17:53:11.674547Z",
          "iopub.status.idle": "2025-02-07T17:53:11.784778Z",
          "shell.execute_reply.started": "2025-02-07T17:53:11.674519Z",
          "shell.execute_reply": "2025-02-07T17:53:11.783846Z"
        },
        "id": "jzT7gyP0ujCG"
      },
      "outputs": [],
      "execution_count": null
    },
    {
      "cell_type": "markdown",
      "source": [
        "- A higher rate of fasting affects the appearance of heart disease in people"
      ],
      "metadata": {
        "id": "XoUmZk95ujCH"
      }
    },
    {
      "cell_type": "markdown",
      "source": [
        "### Resting Electrocardiogram Results (RestingECG) for people has Heart Disease or not"
      ],
      "metadata": {
        "id": "mydChZuWujCI"
      }
    },
    {
      "cell_type": "code",
      "source": [
        "fig = px.pie(values = df_cleaned[(df_cleaned['HeartDisease'] == 0)]['RestingECG'].value_counts(),\n",
        "             names = ['Normal','LVH','ST'],\n",
        "             template = 'plotly_dark',\n",
        "             title = 'The Percentage of Resting Electrocardiogram Results (RestingECG) in For People has Not Heart Disease'\n",
        "             ).update_traces(textinfo='label+percent')\n",
        "\n",
        "fig.show()"
      ],
      "metadata": {
        "trusted": true,
        "execution": {
          "iopub.status.busy": "2025-02-07T17:53:14.394021Z",
          "iopub.execute_input": "2025-02-07T17:53:14.394394Z",
          "iopub.status.idle": "2025-02-07T17:53:14.525419Z",
          "shell.execute_reply.started": "2025-02-07T17:53:14.394364Z",
          "shell.execute_reply": "2025-02-07T17:53:14.524132Z"
        },
        "id": "5eoOtUF2ujCI"
      },
      "outputs": [],
      "execution_count": null
    },
    {
      "cell_type": "code",
      "source": [
        "fig = px.pie(values = df_cleaned[(df_cleaned['HeartDisease'] == 1)]['RestingECG'].value_counts(),\n",
        "             names = ['Normal','ST','LVH'],\n",
        "             template = 'plotly_dark',\n",
        "             title = 'The Percentage of Resting Electrocardiogram Results (RestingECG) in For People has Heart Disease'\n",
        "             ).update_traces(textinfo='label+percent')\n",
        "\n",
        "fig.show()"
      ],
      "metadata": {
        "trusted": true,
        "execution": {
          "iopub.status.busy": "2025-02-07T17:53:15.798096Z",
          "iopub.execute_input": "2025-02-07T17:53:15.79849Z",
          "iopub.status.idle": "2025-02-07T17:53:15.898814Z",
          "shell.execute_reply.started": "2025-02-07T17:53:15.798458Z",
          "shell.execute_reply": "2025-02-07T17:53:15.897538Z"
        },
        "id": "ODnHOGSfujCJ"
      },
      "outputs": [],
      "execution_count": null
    },
    {
      "cell_type": "markdown",
      "source": [
        "## Distribution of Maximum Heart Rate Achieved (MaxHR)"
      ],
      "metadata": {
        "id": "8WOr4vPKujCK"
      }
    },
    {
      "cell_type": "code",
      "source": [
        "plt.figure(figsize=(20, 12))\n",
        "\n",
        "plt.subplot(2,2,1)\n",
        "\n",
        "sns.histplot(df_cleaned[(df['Sex'] == 'M') & (df_cleaned['HeartDisease'] == 0)]['MaxHR'], color='blue', kde=True, bins=20, stat='density')\n",
        "plt.title('Maximum Heart Rate Achieved Distribution for Male Has Not Heart Disease')\n",
        "\n",
        "plt.subplot(2,2,2)\n",
        "\n",
        "sns.histplot(df_cleaned[(df['Sex'] == 'M') & (df_cleaned['HeartDisease'] == 1)]['MaxHR'], color='blue', kde=True, bins=20, stat='density')\n",
        "plt.title('Maximum Heart Rate Achieved Distribution for Male Has Heart Disease')\n",
        "\n",
        "plt.subplot(2,2,3)\n",
        "\n",
        "sns.histplot(df_cleaned[(df['Sex'] == 'F') & (df_cleaned['HeartDisease'] == 0)]['MaxHR'], color='pink', kde=True, bins=20, stat='density')\n",
        "plt.title('Maximum Heart Rate Achieved Distribution for Female Has Not Heart Disease')\n",
        "\n",
        "plt.subplot(2,2,4)\n",
        "\n",
        "sns.histplot(df_cleaned[(df['Sex'] == 'F') & (df_cleaned['HeartDisease'] == 1)]['MaxHR'], color='pink', kde=True, bins=20, stat='density')\n",
        "plt.title('Maximum Heart Rate Achieved Distribution for Female Has Heart Disease')\n",
        "\n",
        "plt.show()"
      ],
      "metadata": {
        "id": "jpKzuXrdujCL"
      },
      "outputs": [],
      "execution_count": null
    },
    {
      "cell_type": "markdown",
      "source": [
        "## Oldpeak for people has Heart Disease or not"
      ],
      "metadata": {
        "id": "mE9vpWbhujCM"
      }
    },
    {
      "cell_type": "code",
      "source": [
        "plt.figure(figsize=(20, 12))\n",
        "\n",
        "plt.subplot(2,2,1)\n",
        "\n",
        "sns.histplot(df_cleaned[(df['Sex'] == 'M') & (df_cleaned['HeartDisease'] == 0)]['Oldpeak'], color='blue', kde=True, bins=20, stat='density')\n",
        "plt.title('Oldpeak Distribution for Male Has Not Heart Disease')\n",
        "\n",
        "plt.subplot(2,2,2)\n",
        "\n",
        "sns.histplot(df_cleaned[(df['Sex'] == 'M') & (df_cleaned['HeartDisease'] == 1)]['Oldpeak'], color='blue', kde=True, bins=20, stat='density')\n",
        "plt.title('Oldpeak Distribution for Male Has Heart Disease')\n",
        "\n",
        "plt.subplot(2,2,3)\n",
        "\n",
        "sns.histplot(df_cleaned[(df['Sex'] == 'F') & (df_cleaned['HeartDisease'] == 0)]['Oldpeak'], color='pink', kde=True, bins=20, stat='density')\n",
        "plt.title('Oldpeak Distribution for Female Has Not Heart Disease')\n",
        "\n",
        "plt.subplot(2,2,4)\n",
        "\n",
        "sns.histplot(df_cleaned[(df['Sex'] == 'F') & (df_cleaned['HeartDisease'] == 1)]['Oldpeak'], color='pink', kde=True, bins=20, stat='density')\n",
        "plt.title('Oldpeak Distribution for Female Has Heart Disease')\n",
        "\n",
        "plt.show()"
      ],
      "metadata": {
        "id": "puvB91LRujCN"
      },
      "outputs": [],
      "execution_count": null
    },
    {
      "cell_type": "markdown",
      "source": [
        "- Higher Oldpeak values are strongly correlated with the presence of Heart Disease, indicating more severe heart ischemia or coronary artery disease."
      ],
      "metadata": {
        "id": "CXDqHUoEujCO"
      }
    },
    {
      "cell_type": "markdown",
      "source": [
        "## Total Insights\n",
        "- Most Ranges of Age between 50 to 60\n",
        "- Males are the dominant Category in the data\n",
        "- Male and Female Most Common occur -> ASY: Asymptomatic\n",
        "- Male and Female Least Common occur -> TA: Typical Angina\n",
        "- A higher rate of fasting affects the appearance of heart disease in people\n",
        "- The Presence of Exercise Results in a higher probability of Angina Pectoris occurring\n",
        "- Higher Oldpeak values are strongly correlated with the presence of Heart Disease, indicating more severe heart ischemia or coronary artery disease.\n",
        "- Flat (flat) is more strongly correlated with heart disease, while Upsloping (Up) and Down (DownSloping) are typically associated with normal heart function or less severe heart issues.\n"
      ],
      "metadata": {
        "id": "_Uc5dVu0ujCP"
      }
    },
    {
      "cell_type": "markdown",
      "source": [
        "<div style=\"color:white;\n",
        "            display:fill;\n",
        "            border-radius:15px;\n",
        "            background-color:black;\n",
        "            font-size:100%;\n",
        "            font-family:Verdana;\n",
        "            letter-spacing:1px\">\n",
        "    <h1 style='padding: 20px;\n",
        "              color:white;\n",
        "              text-align:center;'>\n",
        "         Data Preprocessing\n",
        "    </h1>\n",
        "    </div>"
      ],
      "metadata": {
        "id": "R4koMDTIujCP"
      }
    },
    {
      "cell_type": "markdown",
      "source": [
        "## Handling Object DataType"
      ],
      "metadata": {
        "id": "ZIcF5VyEujCQ"
      }
    },
    {
      "cell_type": "markdown",
      "source": [
        "### Encode Object DataType"
      ],
      "metadata": {
        "id": "OeIqHWa7ujCQ"
      }
    },
    {
      "cell_type": "code",
      "source": [
        "column_to_encode = df.select_dtypes(object).columns.tolist()\n",
        "le = LabelEncoder()\n",
        "for column in column_to_encode:\n",
        "    df_cleaned[column] = le.fit_transform(df_cleaned[column])"
      ],
      "metadata": {
        "id": "_foUzyH8ujCR"
      },
      "outputs": [],
      "execution_count": null
    },
    {
      "cell_type": "code",
      "source": [
        "# Show Data After some of Encode\n",
        "df_cleaned.head()"
      ],
      "metadata": {
        "id": "i97N6PfJujCS"
      },
      "outputs": [],
      "execution_count": null
    },
    {
      "cell_type": "code",
      "source": [
        "# Final Info after Encode\n",
        "df_cleaned.info()"
      ],
      "metadata": {
        "id": "jnUnHVEeujCT"
      },
      "outputs": [],
      "execution_count": null
    },
    {
      "cell_type": "markdown",
      "source": [
        "## Assign feature and target variables"
      ],
      "metadata": {
        "id": "4NYJ_d_VujCU"
      }
    },
    {
      "cell_type": "code",
      "source": [
        "X = df_cleaned.drop('HeartDisease' , axis = 1)\n",
        "y = df_cleaned['HeartDisease']"
      ],
      "metadata": {
        "id": "xPo58vFyujCV"
      },
      "outputs": [],
      "execution_count": null
    },
    {
      "cell_type": "markdown",
      "source": [
        "## Splitting Data"
      ],
      "metadata": {
        "id": "zFvSsQLHujCV"
      }
    },
    {
      "cell_type": "code",
      "source": [
        "X_train , X_test , y_train , y_test = train_test_split(X , y , test_size = 0.25 , random_state = 44 , shuffle = True)"
      ],
      "metadata": {
        "id": "p-ONSYcoujCW"
      },
      "outputs": [],
      "execution_count": null
    },
    {
      "cell_type": "code",
      "source": [
        "print(f'Shape of X_Train {X_train.shape}')\n",
        "print(f'Shape of X_Test {X_test.shape}')\n",
        "print(f'Shape of Y_Train {y_train.shape}')\n",
        "print(f'Shape of Y_Test {y_test.shape}')"
      ],
      "metadata": {
        "id": "xlfKt0m1ujCW"
      },
      "outputs": [],
      "execution_count": null
    },
    {
      "cell_type": "markdown",
      "source": [
        "<div style=\"color:white;\n",
        "            display:fill;\n",
        "            border-radius:15px;\n",
        "            background-color:black;\n",
        "            font-size:100%;\n",
        "            font-family:Verdana;\n",
        "            letter-spacing:1px\">\n",
        "    <h1 style='padding: 20px;\n",
        "              color:white;\n",
        "              text-align:center;'>\n",
        "         Modeling\n",
        "    </h1>\n",
        "    </div>"
      ],
      "metadata": {
        "id": "zaD14oPUujCX"
      }
    },
    {
      "cell_type": "markdown",
      "source": [
        "## Use Different Models Algorithm"
      ],
      "metadata": {
        "id": "A49JIVZAujCX"
      }
    },
    {
      "cell_type": "code",
      "source": [
        "def Kfold(model,model_name):\n",
        "    model = cross_val_score(model , X , y , cv = 10)\n",
        "    model_score = np.average(model)\n",
        "    print(f\"{model_name} score on cross validation: {model_score * 100}%\")\n",
        "\n",
        "def train(model,model_name):\n",
        "    model.fit(X_train,y_train)\n",
        "    model_train_score = model.score(X_train,y_train)\n",
        "    model_test_score = model.score(X_test,y_test)\n",
        "    print(f\"{model_name} model score on Training data: {model_train_score * 100}%\\n{model_name} model score on Testing data: {model_test_score * 100}%\")\n",
        "\n",
        "def class_report(model):\n",
        "    y_pred = model.predict(X_test)\n",
        "    print(classification_report(y_test, y_pred))"
      ],
      "metadata": {
        "id": "33xxii_0ujCY"
      },
      "outputs": [],
      "execution_count": null
    },
    {
      "cell_type": "markdown",
      "source": [
        "## Random Forest"
      ],
      "metadata": {
        "id": "AClWkJuSujCY"
      }
    },
    {
      "cell_type": "code",
      "source": [
        "rf = RandomForestClassifier(n_estimators = 100 , max_depth = 50)\n",
        "Kfold(rf, \"Random Forest\")\n",
        "train(rf, \"Random Forest\")"
      ],
      "metadata": {
        "id": "eD0OO2vlujCZ"
      },
      "outputs": [],
      "execution_count": null
    },
    {
      "cell_type": "code",
      "source": [
        "ConfusionMatrixDisplay.from_estimator(rf,\n",
        "                                       X_test,\n",
        "                                       y_test,\n",
        "                                       xticks_rotation=45\n",
        "    );"
      ],
      "metadata": {
        "id": "0QZdqmeUujCZ"
      },
      "outputs": [],
      "execution_count": null
    },
    {
      "cell_type": "code",
      "source": [
        "class_report(rf)"
      ],
      "metadata": {
        "id": "o_um1BtrujCa"
      },
      "outputs": [],
      "execution_count": null
    },
    {
      "cell_type": "markdown",
      "source": [
        "## Xgboost"
      ],
      "metadata": {
        "id": "gsU6XAYPujCa"
      }
    },
    {
      "cell_type": "code",
      "source": [
        "xgboost = model = XGBClassifier(objective = \"binary:logistic\" , subsample = 0.7 , min_child_weight = 3,\n",
        "                                max_depth = 3 , learning_rate = 0.1 , gamma = 0 , colsample_bytree = 0.5,)\n",
        "Kfold(xgboost, \"Xgboost\")\n",
        "train(xgboost, \"Xgboost\")"
      ],
      "metadata": {
        "id": "TFDMTpXLujCb"
      },
      "outputs": [],
      "execution_count": null
    },
    {
      "cell_type": "code",
      "source": [
        "ConfusionMatrixDisplay.from_estimator(xgboost,\n",
        "                                       X_test,\n",
        "                                       y_test,\n",
        "                                       xticks_rotation=45\n",
        "    );"
      ],
      "metadata": {
        "id": "bZVeZQ36ujCb"
      },
      "outputs": [],
      "execution_count": null
    },
    {
      "cell_type": "code",
      "source": [
        "class_report(xgboost)"
      ],
      "metadata": {
        "id": "VprPiZf_ujCc"
      },
      "outputs": [],
      "execution_count": null
    },
    {
      "cell_type": "markdown",
      "source": [
        "- Best Model is RandomForestClassifier with recall 90.0%"
      ],
      "metadata": {
        "id": "tFl9up1ZujCc"
      }
    },
    {
      "cell_type": "markdown",
      "source": [
        "## Save RandomForestClassifier Model"
      ],
      "metadata": {
        "id": "XVEdWnwGujCd"
      }
    },
    {
      "cell_type": "code",
      "source": [
        "joblib.dump(rf,'RandomForestClassifier_model.sav')"
      ],
      "metadata": {
        "id": "uoo_oHPIujCd"
      },
      "outputs": [],
      "execution_count": null
    },
    {
      "cell_type": "markdown",
      "source": [
        "# Streamlit Application\n",
        "##  [🚀 Click here to go to the GitHub repo](https://github.com/ahmedismaiill/AI-Projects-Main/tree/main/1-%20Machine%20Learning%20/2-%20Classification/Heart%20Failure%20Prediction)"
      ],
      "metadata": {
        "id": "SEUozfQIujCe"
      }
    }
  ]
}